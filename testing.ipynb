{
 "cells": [
  {
   "cell_type": "code",
   "execution_count": null,
   "metadata": {},
   "outputs": [],
   "source": [
    "from runna_modelling.scheduler import Scheduler\n",
    "\n",
    "scheduler = Scheduler()\n",
    "\n",
    "\n",
    "test_workouts = [\n",
    "    [Workout(\"Run\", 10, 10), Workout(\"Run\", 10, 10), Workout(\"Run\", 10, 10)],\n",
    "    [Workout(\"Run\", 10, 10), Workout(\"Run\", 10, 10), Workout(\"Run\", 10, 10)],\n",
    "]\n",
    "\n",
    "\n",
    "scheduled_workouts = scheduler.schedule(test_workouts)"
   ]
  }
 ],
 "metadata": {
  "language_info": {
   "name": "python"
  }
 },
 "nbformat": 4,
 "nbformat_minor": 2
}
